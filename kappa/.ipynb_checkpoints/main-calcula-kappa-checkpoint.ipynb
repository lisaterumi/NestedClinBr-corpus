{
 "cells": [
  {
   "cell_type": "code",
   "execution_count": 9,
   "metadata": {},
   "outputs": [],
   "source": [
    "import relationsiaa as iaa\n",
    "from importlib import reload  \n",
    "iaa = reload(iaa)\n",
    "\n",
    "# nao vai dar pra usar.. kappa para relattions e nao para tokens"
   ]
  },
  {
   "cell_type": "code",
   "execution_count": 18,
   "metadata": {},
   "outputs": [
    {
     "name": "stdout",
     "output_type": "stream",
     "text": [
      "\n",
      "##Agreement per Label and Document:\n",
      "Empty DataFrame\n",
      "Columns: [9053_goldstandard_train, 9348_goldstandard_train, 9393_goldstandard_train, 9400_goldstandard_train, 9410_goldstandard_test, 9426_goldstandard_test, 9444_goldstandard_train, 9451_goldstandard_train, 9457_goldstandard_test, 9463_goldstandard_train, 9482_goldstandard_train, 9506_goldstandard_train, 9510_goldstandard_train, 9511_goldstandard_train, 9512_goldstandard_train, 9527_goldstandard_train, 9528_goldstandard_train, 9529_goldstandard_train, 9530_goldstandard_train, 9538_goldstandard_train, 9540_goldstandard_train, 9541_goldstandard_train, 9543_goldstandard_train, 9544_goldstandard_train, 9545_goldstandard_train, 9562_goldstandard_train, 9563_goldstandard_train, 9564_goldstandard_train, 9565_goldstandard_train, 9568_goldstandard_train, 9570_goldstandard_train, 9572_goldstandard_train, 9573_goldstandard_train, 9574_goldstandard_train, 9575_goldstandard_test, 9576_goldstandard_train, 9577_goldstandard_train, 9578_goldstandard_train, 9579_goldstandard_test, 9580_goldstandard_test, 9581_goldstandard_test, 9582_goldstandard_train, 9583_goldstandard_test, 9584_goldstandard_train, 9593_goldstandard_test, 9594_goldstandard_test, 9595_goldstandard_train, 9596_goldstandard_train, 9597_goldstandard_train, 9598_goldstandard_train, 9600_goldstandard_train, 9601_goldstandard_test, 9609_goldstandard_train, 9613_goldstandard_train, 9614_goldstandard_train, 9616_goldstandard_train, 9617_goldstandard_train, 9620_goldstandard_train, 9622_goldstandard_train, 9623_goldstandard_train, 9624_goldstandard_train, 9625_goldstandard_train, 9627_goldstandard_train, 9628_goldstandard_train, 9629_goldstandard_train, 9630_goldstandard_train, 9638_goldstandard_train, 9639_goldstandard_test, 9640_goldstandard_train, 9641_goldstandard_train, 9642_goldstandard_train, 9643_goldstandard_train, 9644_goldstandard_train, 9645_goldstandard_test, 9646_goldstandard_train, 9647_goldstandard_test, 9648_goldstandard_test, 9649_goldstandard_train, 9650_goldstandard_train, 9651_goldstandard_train, 9665_goldstandard_train, 9666_goldstandard_train, 9667_goldstandard_train, 9669_goldstandard_train, 9670_goldstandard_train, 9672_goldstandard_train, 9673_goldstandard_train, 9675_goldstandard_test, 9680_goldstandard_train, 9681_goldstandard_test, 9683_goldstandard_train, 9684_goldstandard_test, 9685_goldstandard_train, 9686_goldstandard_train, 9690_goldstandard_train, 9691_goldstandard_test, 9727_goldstandard_train, 9728_goldstandard_train, 9729_goldstandard_test, 9730_goldstandard_train, ...]\n",
      "Index: []\n",
      "\n",
      "##Agreement per Label:\n",
      "Empty DataFrame\n",
      "Columns: [Cohen kappa]\n",
      "Index: []\n",
      "\n",
      "##Agreement per Document:\n",
      "                         Cohen kappa\n",
      "9053_goldstandard_train          NaN\n",
      "9348_goldstandard_train          NaN\n",
      "9393_goldstandard_train          NaN\n",
      "9400_goldstandard_train          NaN\n",
      "9410_goldstandard_test           NaN\n",
      "...                              ...\n",
      "9861_goldstandard_train          NaN\n",
      "9865_goldstandard_train          NaN\n",
      "9870_goldstandard_train          NaN\n",
      "9871_goldstandard_train          NaN\n",
      "9934_goldstandard_train          NaN\n",
      "\n",
      "[123 rows x 1 columns]\n",
      "\n",
      "##Overall Agreement:\n",
      "Mean Cohen kappa\tnan\n"
     ]
    }
   ],
   "source": [
    "path1='anotadora1/'\n",
    "path2='anotadora2/'\n",
    "iaa.main_arg('-k', path1, path2)\n",
    "# !python relationsiaa.py -k anotadora1 anotadora2"
   ]
  },
  {
   "cell_type": "code",
   "execution_count": 17,
   "metadata": {},
   "outputs": [
    {
     "name": "stdout",
     "output_type": "stream",
     "text": [
      "\n",
      "##Agreement per Label and Document:\n",
      "Empty DataFrame\n",
      "Columns: []\n",
      "Index: []\n",
      "\n",
      "##Agreement per Label:\n",
      "Empty DataFrame\n",
      "Columns: [f-score]\n",
      "Index: []\n",
      "\n",
      "##Agreement per Document:\n",
      "Empty DataFrame\n",
      "Columns: [f-score]\n",
      "Index: []\n",
      "\n",
      "##Overall Agreement:\n",
      "Mean f-score\tnan\n"
     ]
    }
   ],
   "source": [
    "iaa.main_arg('-f', 'anotadora1/9348_goldstandard_train', 'anotadora2/9348_goldstandard_train')"
   ]
  },
  {
   "cell_type": "code",
   "execution_count": null,
   "metadata": {},
   "outputs": [],
   "source": [
    "\n",
    "def main():\n",
    "    \"\"\"\n",
    "        Input:\n",
    "            :param ann1_path [type:string]: directory for annotator one's annotations\n",
    "            :param ann2_path [type:string]: directory for annotator two's annotations\n",
    "        Optional Keyword Arguments:\n",
    "            :bratman.py\n",
    "                Default. No arguments provided, replace both \"dir_path\" variables\n",
    "            :bratman.py arg1 arg2\n",
    "                arg1 = annotator one's directory\n",
    "                arg2 = annotator two's directory\n",
    "            :bratman.py arg1 arg2 arg3\n",
    "                arg1 = '-mk': merge brat files and compute cohen kappa iaa\n",
    "                       '-mf': merge brat files and compute f-score iaa\n",
    "                       '-k': compute cohen kappa iaa\n",
    "                       '-f': compute f-score iaa\n",
    "                       '-m': merge brat files\n",
    "                arg2 = annotator one's directory\n",
    "                arg3 = annotator two's directory"
   ]
  }
 ],
 "metadata": {
  "kernelspec": {
   "display_name": "Python 3",
   "language": "python",
   "name": "python3"
  },
  "language_info": {
   "codemirror_mode": {
    "name": "ipython",
    "version": 3
   },
   "file_extension": ".py",
   "mimetype": "text/x-python",
   "name": "python",
   "nbconvert_exporter": "python",
   "pygments_lexer": "ipython3",
   "version": "3.8.5"
  }
 },
 "nbformat": 4,
 "nbformat_minor": 4
}
